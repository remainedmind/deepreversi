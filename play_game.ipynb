{
 "cells": [
  {
   "cell_type": "code",
   "execution_count": 60,
   "outputs": [],
   "source": [
    "import typing as t\n",
    "from typing import List\n",
    "from functools import reduce\n",
    "import numpy as np\n",
    "import torch\n",
    "import random\n",
    "from tabulate import tabulate\n",
    "from torch import Tensor"
   ],
   "metadata": {
    "collapsed": false,
    "ExecuteTime": {
     "start_time": "2023-09-23T20:35:49.001504Z",
     "end_time": "2023-09-23T20:35:49.017177Z"
    }
   }
  },
  {
   "cell_type": "code",
   "execution_count": 61,
   "outputs": [],
   "source": [
    "MOONS = ['🌑', '🌒', '🌓', '🌔', '🌕', '🌘', '🌗', '🌖', '🌕']"
   ],
   "metadata": {
    "collapsed": false,
    "ExecuteTime": {
     "start_time": "2023-09-23T20:35:49.257321Z",
     "end_time": "2023-09-23T20:35:49.273356Z"
    }
   }
  },
  {
   "cell_type": "code",
   "execution_count": 62,
   "outputs": [],
   "source": [
    "\n",
    "# Function to initialize the board with starting pieces\n",
    "def initialize_board():\n",
    "    board = torch.zeros(8, 8, dtype=torch.long)\n",
    "    x = torch.randint(7, size=(4,))\n",
    "    board[3, 3] = -1\n",
    "    board[3, 4] = 1\n",
    "    board[4, 3] = 1\n",
    "    board[4, 4] = -1\n",
    "    return board\n",
    "\n"
   ],
   "metadata": {
    "collapsed": false,
    "ExecuteTime": {
     "start_time": "2023-09-23T20:35:49.524287Z",
     "end_time": "2023-09-23T20:35:49.539948Z"
    }
   }
  },
  {
   "cell_type": "code",
   "execution_count": 154,
   "outputs": [
    {
     "data": {
      "text/plain": "tensor([1, 0, 4, 5])"
     },
     "execution_count": 154,
     "metadata": {},
     "output_type": "execute_result"
    }
   ],
   "source": [
    "torch.randint(7, size=(4,))"
   ],
   "metadata": {
    "collapsed": false,
    "ExecuteTime": {
     "start_time": "2023-09-23T21:34:50.688948Z",
     "end_time": "2023-09-23T21:34:50.736616Z"
    }
   }
  },
  {
   "cell_type": "code",
   "execution_count": 258,
   "outputs": [],
   "source": [
    "def get_random_board() -> torch.Tensor:\n",
    "    i, j = random.randint(0, 20), random.randint(0, 20)\n",
    "    board = torch.zeros(8, 8, dtype=torch.long)\n",
    "    x1 = torch.randint(7, size=(i,))\n",
    "    y1 = torch.randint(7, size=(i,))\n",
    "    x2 = torch.randint(7, size=(j,))\n",
    "    y2 = torch.randint(7, size=(j,))\n",
    "\n",
    "    for x, y in zip(x1, y1):\n",
    "        board[x, y] = 1\n",
    "    for x, y in zip(x2, y2):\n",
    "        board[x, y] = -1\n",
    "    return board"
   ],
   "metadata": {
    "collapsed": false,
    "ExecuteTime": {
     "start_time": "2023-09-23T21:50:05.432535Z",
     "end_time": "2023-09-23T21:50:05.464571Z"
    }
   }
  },
  {
   "cell_type": "code",
   "execution_count": 242,
   "outputs": [],
   "source": [
    "board = initialize_board()"
   ],
   "metadata": {
    "collapsed": false,
    "ExecuteTime": {
     "start_time": "2023-09-23T21:47:04.793069Z",
     "end_time": "2023-09-23T21:47:04.801090Z"
    }
   }
  },
  {
   "cell_type": "code",
   "execution_count": 218,
   "outputs": [
    {
     "data": {
      "text/plain": "tensor([[ 0,  0,  0,  0,  0,  0,  0,  0],\n        [ 0,  0,  0,  0,  0,  0,  0,  0],\n        [ 0,  0,  0,  0,  0,  0,  0,  0],\n        [ 0,  0,  0, -1,  1,  0,  0,  0],\n        [ 0,  0,  0,  1, -1,  0,  0,  0],\n        [ 0,  0,  0,  0,  0,  0,  0,  0],\n        [ 0,  0,  0,  0,  0,  0,  0,  0],\n        [ 0,  0,  0,  0,  0,  0,  0,  0]])"
     },
     "execution_count": 218,
     "metadata": {},
     "output_type": "execute_result"
    }
   ],
   "source": [
    "board"
   ],
   "metadata": {
    "collapsed": false,
    "ExecuteTime": {
     "start_time": "2023-09-23T21:41:07.501443Z",
     "end_time": "2023-09-23T21:41:07.545438Z"
    }
   }
  },
  {
   "cell_type": "code",
   "execution_count": 65,
   "outputs": [
    {
     "data": {
      "text/plain": "tensor([[3, 3],\n        [4, 4]])"
     },
     "execution_count": 65,
     "metadata": {},
     "output_type": "execute_result"
    }
   ],
   "source": [
    "moves = torch.vstack(torch.where(board == -1))\n",
    "moves.T"
   ],
   "metadata": {
    "collapsed": false,
    "ExecuteTime": {
     "start_time": "2023-09-23T20:35:51.122297Z",
     "end_time": "2023-09-23T20:35:51.145480Z"
    }
   }
  },
  {
   "cell_type": "code",
   "execution_count": 66,
   "outputs": [
    {
     "data": {
      "text/plain": "tensor([3, 3])"
     },
     "execution_count": 66,
     "metadata": {},
     "output_type": "execute_result"
    }
   ],
   "source": [
    "torch.vstack(torch.where(board == -1))[:, 0]"
   ],
   "metadata": {
    "collapsed": false,
    "ExecuteTime": {
     "start_time": "2023-09-23T20:35:54.144323Z",
     "end_time": "2023-09-23T20:35:54.174470Z"
    }
   }
  },
  {
   "cell_type": "code",
   "execution_count": 67,
   "outputs": [],
   "source": [
    "def get_player_pieces(board: torch.Tensor, side: t.Union[int, t.Tuple[int,...]] = 1) -> torch.Tensor:\n",
    "    \"\"\" Function to select squares by the value assigned to them.\n",
    "    E.g. select squares where blacks stay. \"\"\"\n",
    "\n",
    "    if type(side) == int:\n",
    "        moves = torch.vstack(torch.where(board == side))\n",
    "\n",
    "    elif type(side) in (list, tuple):\n",
    "        # Apply each value step by step\n",
    "        conditions = [board == s for s in side]\n",
    "\n",
    "        # Combine all conditions to one\n",
    "        conditions = reduce(torch.logical_or, conditions)\n",
    "        moves = torch.vstack(torch.where(conditions))\n",
    "    else: raise TypeError\n",
    "\n",
    "    return moves.T  # By trasponing the matrix, we turn [(x1, x2), (y1, y2)] into [(x1, y1),"
   ],
   "metadata": {
    "collapsed": false,
    "ExecuteTime": {
     "start_time": "2023-09-23T20:35:55.519934Z",
     "end_time": "2023-09-23T20:35:55.549990Z"
    }
   }
  },
  {
   "cell_type": "code",
   "execution_count": 68,
   "outputs": [
    {
     "data": {
      "text/plain": "[[3, 4], [4, 3]]"
     },
     "execution_count": 68,
     "metadata": {},
     "output_type": "execute_result"
    }
   ],
   "source": [
    "get_player_pieces(board, side=(1)).tolist()"
   ],
   "metadata": {
    "collapsed": false,
    "ExecuteTime": {
     "start_time": "2023-09-23T20:35:56.252351Z",
     "end_time": "2023-09-23T20:35:56.283151Z"
    }
   }
  },
  {
   "cell_type": "code",
   "execution_count": 69,
   "outputs": [],
   "source": [
    "board[(2,3)] = 1\n",
    "board[(3,3)] = 0"
   ],
   "metadata": {
    "collapsed": false,
    "ExecuteTime": {
     "start_time": "2023-09-23T20:35:57.414787Z",
     "end_time": "2023-09-23T20:35:57.442826Z"
    }
   }
  },
  {
   "cell_type": "code",
   "execution_count": 259,
   "outputs": [],
   "source": [
    "def get_all_possible_moves(board: torch.Tensor):\n",
    "    \"\"\" We will get a list of all 'valid' the cells that we could move to. Conditions:\n",
    "    1) These cells are not occupied by any player;\n",
    "    2) At least ONE of Neighboring cells must be occupied\n",
    "    (as we cannot place a chip on the edge of the board at the beginning of the game);\n",
    "    3) Squares are within the borders of the board\n",
    "    \"\"\"\n",
    "    valid_moves = set()\n",
    "    all_occupied_squares = get_player_pieces(board, side=(1,-1)).tolist()\n",
    "    all_available_squares = get_player_pieces(board, side=0).tolist()  # First condition\n",
    "    for row, col in all_available_squares:\n",
    "        if (row, col) in all_occupied_squares:\n",
    "            continue\n",
    "        # Second condition - check for neighbor squares\n",
    "        neighbors = torch.tensor(\n",
    "            [\n",
    "                [row - 1, col - 1], [row - 1, col], [row - 1, col + 1],\n",
    "                [row, col - 1],                         [row, col + 1],\n",
    "                [row + 1, col - 1], [row + 1, col], [row + 1, col + 1],\n",
    "\n",
    "            ]\n",
    "        )\n",
    "\n",
    "        # Check for Condition №3\n",
    "        neighbors = (\n",
    "            neighbors[\n",
    "                (neighbors[:, 0] >= 0) &\n",
    "                (neighbors[:, 0] < 8) &\n",
    "                (neighbors[:, 1] >= 0) &\n",
    "                (neighbors[:, 1] < 8)\n",
    "            ]\n",
    "        ).tolist()\n",
    "        if any([cell in all_occupied_squares for cell in neighbors]):\n",
    "            valid_moves.add((row, col))\n",
    "        # for cell in neighbors:\n",
    "        #     if cell in all_occupied_squares:\n",
    "        #         # Below we transform Tensor to tuple to make it strictly deterministic\n",
    "        #         # (two tensors with same value might have different hashes)\n",
    "        #         valid_moves.add((row, col))\n",
    "    return sorted(tuple(valid_moves))"
   ],
   "metadata": {
    "collapsed": false,
    "ExecuteTime": {
     "start_time": "2023-09-23T21:50:11.750517Z",
     "end_time": "2023-09-23T21:50:11.761492Z"
    }
   }
  },
  {
   "cell_type": "code",
   "execution_count": 236,
   "outputs": [],
   "source": [
    "def get_valid_moves(moves: torch.Tensor) -> torch.Tensor:\n",
    "    \"\"\" After we got list of possible moves, we validate them to get the\n",
    "     list of moves which we are actually allowed to do.\n",
    "     That is where the basic rule of the Reversi game takes effect. \"\"\"\n",
    "    pass"
   ],
   "metadata": {
    "collapsed": false,
    "ExecuteTime": {
     "start_time": "2023-09-23T21:46:33.404403Z",
     "end_time": "2023-09-23T21:46:33.433084Z"
    }
   }
  },
  {
   "cell_type": "code",
   "execution_count": 243,
   "outputs": [
    {
     "name": "stdout",
     "output_type": "stream",
     "text": [
      "i is 19; j is 9\n",
      "tensor([[ 0, -1,  1,  0,  0, -1,  0,  0],\n",
      "        [ 1,  0,  0,  0, -1,  1,  0,  0],\n",
      "        [ 0,  0,  0, -1,  1,  0,  0,  0],\n",
      "        [ 1, -1,  1,  0,  0,  0, -1,  0],\n",
      "        [ 0,  1, -1,  0,  0,  1,  0,  0],\n",
      "        [-1,  0,  1,  1,  1,  0,  0,  0],\n",
      "        [ 0,  0, -1,  1,  1,  0,  1,  0],\n",
      "        [ 0,  0,  0,  0,  0,  0,  0,  0]])\n"
     ]
    }
   ],
   "source": [
    "board = get_random_board()"
   ],
   "metadata": {
    "collapsed": false,
    "ExecuteTime": {
     "start_time": "2023-09-23T21:47:10.692725Z",
     "end_time": "2023-09-23T21:47:10.728793Z"
    }
   }
  },
  {
   "cell_type": "code",
   "execution_count": 248,
   "outputs": [
    {
     "data": {
      "text/plain": "[(0, 0),\n (0, 3),\n (0, 4),\n (0, 6),\n (1, 1),\n (1, 2),\n (1, 3),\n (1, 6),\n (2, 0),\n (2, 1),\n (2, 2),\n (2, 5),\n (2, 6),\n (2, 7),\n (3, 3),\n (3, 4),\n (3, 5),\n (3, 7),\n (4, 0),\n (4, 3),\n (4, 4),\n (4, 6),\n (4, 7),\n (5, 1),\n (5, 5),\n (5, 6),\n (5, 7),\n (6, 0),\n (6, 1),\n (6, 5),\n (6, 7),\n (7, 1),\n (7, 2),\n (7, 3),\n (7, 4),\n (7, 5),\n (7, 6),\n (7, 7)]"
     },
     "execution_count": 248,
     "metadata": {},
     "output_type": "execute_result"
    }
   ],
   "source": [
    "get_all_possible_moves(board)"
   ],
   "metadata": {
    "collapsed": false,
    "ExecuteTime": {
     "start_time": "2023-09-23T21:48:08.229079Z",
     "end_time": "2023-09-23T21:48:08.292497Z"
    }
   }
  },
  {
   "cell_type": "code",
   "execution_count": 213,
   "outputs": [],
   "source": [
    "# a = torch.tensor(list(a), dtype=torch.long)"
   ],
   "metadata": {
    "collapsed": false,
    "ExecuteTime": {
     "start_time": "2023-09-23T21:40:19.320585Z",
     "end_time": "2023-09-23T21:40:19.344575Z"
    }
   }
  },
  {
   "cell_type": "code",
   "execution_count": 260,
   "outputs": [],
   "source": [
    "def show_board(board: torch.Tensor, first_player_pieces, second_player_pieces):\n",
    "    # board  = board.detach().clone().numpy().astype(str)\n",
    "    # print(torch.gather(board, index=torch.where((board[:, 0] >= 0) & (board[:, 0] < 8))))\n",
    "\n",
    "    available_squares = get_all_possible_moves(board)\n",
    "    board = np.full((8, 8), fill_value='🟩', dtype=str)\n",
    "    for p in first_player_pieces:\n",
    "        board[*p] = '🌑'\n",
    "    for p in second_player_pieces:\n",
    "        board[*p] = '🌕'\n",
    "\n",
    "    for p in available_squares:\n",
    "        board[*p] = '🟧'\n",
    "\n",
    "    board = tabulate(board, showindex=True, headers=[\"/\", \"a\", \"b\", \"c\", \"d\", \"e\", \"f\", \"g\", \"h\"],\n",
    "                                  tablefmt=\"tight\"\n",
    "    )\n",
    "    print(board)"
   ],
   "metadata": {
    "collapsed": false,
    "ExecuteTime": {
     "start_time": "2023-09-23T21:50:18.670422Z",
     "end_time": "2023-09-23T21:50:18.686493Z"
    }
   }
  },
  {
   "cell_type": "code",
   "execution_count": 288,
   "outputs": [
    {
     "name": "stdout",
     "output_type": "stream",
     "text": [
      "  /  a    b    c    d    e    f    g    h\n",
      "---  ---  ---  ---  ---  ---  ---  ---  ---\n",
      "  0  🌕   🌕   🟧   🟧   🟧   🌑   🟧   🟧\n",
      "  1  🟧   🟧   🟧   🟧   🌑   🌕   🌑   🟧\n",
      "  2  🟩   🟧   🌑   🟧   🟧   🟧   🌑   🟧\n",
      "  3  🟧   🟧   🌑   🟧   🟧   🌕   🟧   🟧\n",
      "  4  🟧   🌑   🟧   🌑   🌕   🌑   🟧   🟧\n",
      "  5  🌕   🟧   🟧   🟧   🌑   🟧   🌕   🟧\n",
      "  6  🟧   🟧   🟩   🟧   🌕   🟧   🟧   🟧\n",
      "  7  🟩   🟩   🟩   🟧   🟧   🟧   🟩   🟩\n"
     ]
    }
   ],
   "source": [
    "board = get_random_board()\n",
    "show_board(\n",
    "    board,\n",
    "    get_player_pieces(board, side=(1,)),\n",
    "    get_player_pieces(board, side=(-1))\n",
    "    )"
   ],
   "metadata": {
    "collapsed": false,
    "ExecuteTime": {
     "start_time": "2023-09-23T21:50:52.644879Z",
     "end_time": "2023-09-23T21:50:52.695646Z"
    }
   }
  },
  {
   "cell_type": "code",
   "execution_count": 256,
   "outputs": [
    {
     "data": {
      "text/plain": "False"
     },
     "execution_count": 256,
     "metadata": {},
     "output_type": "execute_result"
    }
   ],
   "source": [
    "torch.tensor([7, 4]) in torch.tensor([[2, 3], [3, 4], [4, 3], [4, 4]]).tolist()"
   ],
   "metadata": {
    "collapsed": false,
    "ExecuteTime": {
     "start_time": "2023-09-23T21:49:39.614895Z",
     "end_time": "2023-09-23T21:49:39.637666Z"
    }
   }
  },
  {
   "cell_type": "code",
   "execution_count": 34,
   "outputs": [],
   "source": [
    "def validate_move(move: t.Tuple[int, int], board: torch.Tensor):\n",
    "    # print(tabulate(board, showindex=True, headers=[\"/\", \"a\", \"b\", \"c\", \"d\", \"e\", \"f\", \"g\", \"h\"],\n",
    "    #                  tablefmt=\"pretty\")\n",
    "    # )\n",
    "    row, col = move\n",
    "    print(move, board[move].item())\n",
    "\n",
    "    t = torch.tensor(\n",
    "        [\n",
    "\n",
    "            [row + 1, col], [row - 1, col],\n",
    "\n",
    "\n",
    "            [row, col + 1], [row, col - 1],\n",
    "\n",
    "        ]\n",
    "    )\n",
    "    print(t)\n",
    "    # t = t[t < 8]\n",
    "\n",
    "    # Exclude the moves that goes beyond the borders\n",
    "    t = t[(t[:, 0] < 8) & (t[:, 1] < 8)]\n",
    "\n",
    "    print(t)\n",
    "    # print(torch.split(t, 2))\n",
    "    # print(t, t[t < 8].reshape(-1, 2), sep='\\n')\n",
    "    # print(board[t])\n",
    "    # print(\n",
    "    #     torch.any(\n",
    "    #         t < 8, dim=-1,\n",
    "    #     ).shape\n",
    "    # )\n",
    "    # print(board[move].item())"
   ],
   "metadata": {
    "collapsed": false,
    "ExecuteTime": {
     "start_time": "2023-09-23T17:52:16.536653Z",
     "end_time": "2023-09-23T17:52:16.724785Z"
    }
   }
  },
  {
   "cell_type": "code",
   "execution_count": 35,
   "outputs": [
    {
     "name": "stdout",
     "output_type": "stream",
     "text": [
      "tensor([[0, 0],\n",
      "        [0, 1],\n",
      "        [0, 2],\n",
      "        [0, 3],\n",
      "        [0, 4],\n",
      "        [0, 5],\n",
      "        [0, 6],\n",
      "        [0, 7],\n",
      "        [1, 0],\n",
      "        [1, 1],\n",
      "        [1, 2],\n",
      "        [1, 3],\n",
      "        [1, 4],\n",
      "        [1, 5],\n",
      "        [1, 6],\n",
      "        [1, 7],\n",
      "        [2, 0],\n",
      "        [2, 1],\n",
      "        [2, 2],\n",
      "        [2, 3],\n",
      "        [2, 4],\n",
      "        [2, 5],\n",
      "        [2, 6],\n",
      "        [2, 7],\n",
      "        [3, 0],\n",
      "        [3, 1],\n",
      "        [3, 2],\n",
      "        [3, 5],\n",
      "        [3, 6],\n",
      "        [3, 7],\n",
      "        [4, 0],\n",
      "        [4, 1],\n",
      "        [4, 2],\n",
      "        [4, 5],\n",
      "        [4, 6],\n",
      "        [4, 7],\n",
      "        [5, 0],\n",
      "        [5, 1],\n",
      "        [5, 2],\n",
      "        [5, 3],\n",
      "        [5, 4],\n",
      "        [5, 5],\n",
      "        [5, 6],\n",
      "        [5, 7],\n",
      "        [6, 0],\n",
      "        [6, 1],\n",
      "        [6, 2],\n",
      "        [6, 3],\n",
      "        [6, 4],\n",
      "        [6, 5],\n",
      "        [6, 6],\n",
      "        [6, 7],\n",
      "        [7, 0],\n",
      "        [7, 1],\n",
      "        [7, 2],\n",
      "        [7, 3],\n",
      "        [7, 4],\n",
      "        [7, 5],\n",
      "        [7, 6],\n",
      "        [7, 7]])\n"
     ]
    },
    {
     "data": {
      "text/plain": "True"
     },
     "execution_count": 35,
     "metadata": {},
     "output_type": "execute_result"
    }
   ],
   "source": [
    "print(get_player_pieces(board, side=0))\n",
    "torch.tensor([7, 1]) in get_player_pieces(board, side=0)"
   ],
   "metadata": {
    "collapsed": false,
    "ExecuteTime": {
     "start_time": "2023-09-23T17:52:16.537182Z",
     "end_time": "2023-09-23T17:52:16.724785Z"
    }
   }
  },
  {
   "cell_type": "code",
   "execution_count": 36,
   "outputs": [],
   "source": [
    "\n",
    "\n",
    "# Function to make a move\n",
    "def make_move(board, row, col, player):\n",
    "    directions = [(0, 1), (1, 0), (0, -1), (-1, 0), (1, 1), (-1, -1), (1, -1), (-1, 1)]\n",
    "    opponent = -1 if player == 1 else 1\n",
    "    # validate_move((row, col), board)\n",
    "    # pieces = get_player_pieces(board, side=0)\n",
    "    # print(f\"CHECK: {torch.tensor((row, col)) in pieces}\")\n",
    "    board[row, col] = player\n",
    "    for dx, dy in directions:\n",
    "        x, y = row + dx, col + dy\n",
    "        flipped = []\n",
    "        while 0 <= x < 8 and 0 <= y < 8 and board[x, y] == opponent:\n",
    "            flipped.append((x, y))\n",
    "            x += dx\n",
    "            y += dy\n",
    "        if 0 <= x < 8 and 0 <= y < 8 and board[x, y] == player:\n",
    "            for fx, fy in flipped:\n",
    "                board[fx, fy] = player\n",
    "    return board"
   ],
   "metadata": {
    "collapsed": false,
    "ExecuteTime": {
     "start_time": "2023-09-23T17:52:16.555382Z",
     "end_time": "2023-09-23T17:52:16.724785Z"
    }
   }
  },
  {
   "cell_type": "code",
   "execution_count": 37,
   "outputs": [],
   "source": [
    "\n",
    "# Function to check if the game is over\n",
    "def is_game_over(board):\n",
    "    return not torch.any(board == 0)"
   ],
   "metadata": {
    "collapsed": false,
    "ExecuteTime": {
     "start_time": "2023-09-23T17:52:16.571551Z",
     "end_time": "2023-09-23T17:52:16.724785Z"
    }
   }
  },
  {
   "cell_type": "code",
   "execution_count": 42,
   "outputs": [],
   "source": [
    "\n",
    "# Main game loop\n",
    "def play_game():\n",
    "    board = initialize_board()\n",
    "    # print(board)\n",
    "    show_board(board, get_player_pieces(board, side=(1,)), get_player_pieces(board, side=(-1)) )\n",
    "    player = 1\n",
    "    while not is_game_over(board):\n",
    "        # print_board(board)\n",
    "        show_board(board, get_player_pieces(board, side=(1,)), get_player_pieces(board, side=(-1)) )\n",
    "        if player == 1:\n",
    "            valid_moves = []\n",
    "            for i in range(8):\n",
    "                for j in range(8):\n",
    "                    if board[i, j] == 0:\n",
    "                        valid_moves.append((i, j))\n",
    "            if valid_moves:\n",
    "                row, col = random.choice(valid_moves)\n",
    "                board = make_move(board, row, col, player)\n",
    "        else:\n",
    "            print(\"Computer's turn...\")\n",
    "            valid_moves = []\n",
    "            for i in range(8):\n",
    "                for j in range(8):\n",
    "                    if board[i, j] == 0:\n",
    "                        valid_moves.append((i, j))\n",
    "            if valid_moves:\n",
    "                row, col = random.choice(valid_moves)\n",
    "                board = make_move(board, row, col, player)\n",
    "        player = -1 if player == 1 else 1\n",
    "\n",
    "    show_board(board, get_player_pieces(board, side=(1,)), get_player_pieces(board, side=(-1)) )\n",
    "    x_count = torch.sum(board == 1)\n",
    "    o_count = torch.sum(board == -1)\n",
    "    if x_count > o_count:\n",
    "        print(\"Player X wins!\")\n",
    "    elif o_count > x_count:\n",
    "        print(\"Player O wins!\")\n",
    "    else:\n",
    "        print(\"It's a tie!\")"
   ],
   "metadata": {
    "collapsed": false,
    "ExecuteTime": {
     "start_time": "2023-09-23T17:53:19.947630Z",
     "end_time": "2023-09-23T17:53:20.010711Z"
    }
   }
  },
  {
   "cell_type": "code",
   "execution_count": 43,
   "outputs": [
    {
     "name": "stdout",
     "output_type": "stream",
     "text": [
      "  /  a    b    c    d    e    f    g    h\n",
      "---  ---  ---  ---  ---  ---  ---  ---  ---\n",
      "  0  🟩   🟩   🟩   🟩   🟩   🟩   🟩   🟩\n",
      "  1  🟩   🟩   🟩   🟩   🟩   🟩   🟩   🟩\n",
      "  2  🟩   🟩   🟩   🟩   🟩   🟩   🟩   🟩\n",
      "  3  🟩   🟩   🟩   🌕   🌑   🟩   🟩   🟩\n",
      "  4  🟩   🟩   🟩   🌑   🌕   🟩   🟩   🟩\n",
      "  5  🟩   🟩   🟩   🟩   🟩   🟩   🟩   🟩\n",
      "  6  🟩   🟩   🟩   🟩   🟩   🟩   🟩   🟩\n",
      "  7  🟩   🟩   🟩   🟩   🟩   🟩   🟩   🟩\n",
      "  /  a    b    c    d    e    f    g    h\n",
      "---  ---  ---  ---  ---  ---  ---  ---  ---\n",
      "  0  🟩   🟩   🟩   🟩   🟩   🟩   🟩   🟩\n",
      "  1  🟩   🟩   🟩   🟩   🟩   🟩   🟩   🟩\n",
      "  2  🟩   🟩   🟩   🟩   🟩   🟩   🟩   🟩\n",
      "  3  🟩   🟩   🟩   🌕   🌑   🟩   🟩   🟩\n",
      "  4  🟩   🟩   🟩   🌑   🌕   🟩   🟩   🟩\n",
      "  5  🟩   🟩   🟩   🟩   🟩   🟩   🟩   🟩\n",
      "  6  🟩   🟩   🟩   🟩   🟩   🟩   🟩   🟩\n",
      "  7  🟩   🟩   🟩   🟩   🟩   🟩   🟩   🟩\n",
      "  /  a    b    c    d    e    f    g    h\n",
      "---  ---  ---  ---  ---  ---  ---  ---  ---\n",
      "  0  🟩   🟩   🟩   🟩   🟩   🟩   🟩   🟩\n",
      "  1  🟩   🟩   🟩   🟩   🟩   🟩   🟩   🟩\n",
      "  2  🟩   🟩   🟩   🟩   🟩   🟩   🟩   🟩\n",
      "  3  🟩   🟩   🟩   🌕   🌑   🟩   🟩   🟩\n",
      "  4  🟩   🟩   🟩   🌑   🌕   🟩   🟩   🟩\n",
      "  5  🟩   🟩   🟩   🟩   🟩   🟩   🟩   🟩\n",
      "  6  🟩   🟩   🟩   🟩   🟩   🟩   🟩   🟩\n",
      "  7  🟩   🟩   🌑   🟩   🟩   🟩   🟩   🟩\n",
      "Computer's turn...\n",
      "  /  a    b    c    d    e    f    g    h\n",
      "---  ---  ---  ---  ---  ---  ---  ---  ---\n",
      "  0  🟩   🟩   🟩   🟩   🟩   🟩   🟩   🟩\n",
      "  1  🟩   🟩   🟩   🟩   🟩   🟩   🟩   🟩\n",
      "  2  🟩   🟩   🟩   🟩   🟩   🟩   🟩   🟩\n",
      "  3  🟩   🟩   🟩   🌕   🌑   🟩   🟩   🟩\n",
      "  4  🟩   🟩   🟩   🌑   🌕   🟩   🟩   🟩\n",
      "  5  🟩   🟩   🌕   🟩   🟩   🟩   🟩   🟩\n",
      "  6  🟩   🟩   🟩   🟩   🟩   🟩   🟩   🟩\n",
      "  7  🟩   🟩   🌑   🟩   🟩   🟩   🟩   🟩\n",
      "  /  a    b    c    d    e    f    g    h\n",
      "---  ---  ---  ---  ---  ---  ---  ---  ---\n",
      "  0  🟩   🟩   🟩   🟩   🟩   🟩   🟩   🟩\n",
      "  1  🟩   🟩   🟩   🟩   🟩   🟩   🟩   🟩\n",
      "  2  🟩   🟩   🟩   🟩   🟩   🟩   🟩   🌑\n",
      "  3  🟩   🟩   🟩   🌕   🌑   🟩   🟩   🟩\n",
      "  4  🟩   🟩   🟩   🌑   🌕   🟩   🟩   🟩\n",
      "  5  🟩   🟩   🌕   🟩   🟩   🟩   🟩   🟩\n",
      "  6  🟩   🟩   🟩   🟩   🟩   🟩   🟩   🟩\n",
      "  7  🟩   🟩   🌑   🟩   🟩   🟩   🟩   🟩\n",
      "Computer's turn...\n",
      "  /  a    b    c    d    e    f    g    h\n",
      "---  ---  ---  ---  ---  ---  ---  ---  ---\n",
      "  0  🟩   🟩   🟩   🟩   🟩   🟩   🟩   🟩\n",
      "  1  🟩   🟩   🟩   🟩   🟩   🟩   🟩   🟩\n",
      "  2  🟩   🟩   🌕   🟩   🟩   🟩   🟩   🌑\n",
      "  3  🟩   🟩   🟩   🌕   🌑   🟩   🟩   🟩\n",
      "  4  🟩   🟩   🟩   🌑   🌕   🟩   🟩   🟩\n",
      "  5  🟩   🟩   🌕   🟩   🟩   🟩   🟩   🟩\n",
      "  6  🟩   🟩   🟩   🟩   🟩   🟩   🟩   🟩\n",
      "  7  🟩   🟩   🌑   🟩   🟩   🟩   🟩   🟩\n",
      "  /  a    b    c    d    e    f    g    h\n",
      "---  ---  ---  ---  ---  ---  ---  ---  ---\n",
      "  0  🟩   🟩   🟩   🟩   🟩   🟩   🟩   🟩\n",
      "  1  🟩   🟩   🟩   🟩   🟩   🟩   🟩   🟩\n",
      "  2  🟩   🟩   🌕   🟩   🟩   🟩   🟩   🌑\n",
      "  3  🟩   🟩   🟩   🌕   🌑   🟩   🟩   🟩\n",
      "  4  🟩   🟩   🟩   🌑   🌕   🟩   🟩   🟩\n",
      "  5  🟩   🟩   🌕   🟩   🟩   🟩   🟩   🟩\n",
      "  6  🟩   🟩   🟩   🟩   🟩   🟩   🟩   🟩\n",
      "  7  🟩   🌑   🌑   🟩   🟩   🟩   🟩   🟩\n",
      "Computer's turn...\n",
      "  /  a    b    c    d    e    f    g    h\n",
      "---  ---  ---  ---  ---  ---  ---  ---  ---\n",
      "  0  🟩   🟩   🟩   🟩   🟩   🟩   🟩   🟩\n",
      "  1  🟩   🟩   🟩   🟩   🟩   🟩   🟩   🟩\n",
      "  2  🟩   🟩   🌕   🟩   🟩   🟩   🟩   🌑\n",
      "  3  🟩   🟩   🟩   🌕   🌑   🟩   🟩   🟩\n",
      "  4  🟩   🟩   🟩   🌑   🌕   🟩   🟩   🟩\n",
      "  5  🟩   🟩   🌕   🟩   🟩   🟩   🟩   🟩\n",
      "  6  🟩   🟩   🟩   🟩   🟩   🟩   🟩   🟩\n",
      "  7  🟩   🌑   🌑   🌕   🟩   🟩   🟩   🟩\n",
      "  /  a    b    c    d    e    f    g    h\n",
      "---  ---  ---  ---  ---  ---  ---  ---  ---\n",
      "  0  🟩   🟩   🟩   🟩   🟩   🟩   🟩   🟩\n",
      "  1  🟩   🟩   🟩   🟩   🌑   🟩   🟩   🟩\n",
      "  2  🟩   🟩   🌕   🟩   🟩   🟩   🟩   🌑\n",
      "  3  🟩   🟩   🟩   🌕   🌑   🟩   🟩   🟩\n",
      "  4  🟩   🟩   🟩   🌑   🌕   🟩   🟩   🟩\n",
      "  5  🟩   🟩   🌕   🟩   🟩   🟩   🟩   🟩\n",
      "  6  🟩   🟩   🟩   🟩   🟩   🟩   🟩   🟩\n",
      "  7  🟩   🌑   🌑   🌕   🟩   🟩   🟩   🟩\n",
      "Computer's turn...\n",
      "  /  a    b    c    d    e    f    g    h\n",
      "---  ---  ---  ---  ---  ---  ---  ---  ---\n",
      "  0  🟩   🟩   🟩   🟩   🟩   🟩   🟩   🟩\n",
      "  1  🟩   🟩   🟩   🟩   🌑   🟩   🟩   🟩\n",
      "  2  🟩   🟩   🌕   🟩   🟩   🟩   🟩   🌑\n",
      "  3  🟩   🟩   🟩   🌕   🌑   🟩   🌕   🟩\n",
      "  4  🟩   🟩   🟩   🌑   🌕   🟩   🟩   🟩\n",
      "  5  🟩   🟩   🌕   🟩   🟩   🟩   🟩   🟩\n",
      "  6  🟩   🟩   🟩   🟩   🟩   🟩   🟩   🟩\n",
      "  7  🟩   🌑   🌑   🌕   🟩   🟩   🟩   🟩\n",
      "  /  a    b    c    d    e    f    g    h\n",
      "---  ---  ---  ---  ---  ---  ---  ---  ---\n",
      "  0  🟩   🟩   🟩   🟩   🟩   🟩   🟩   🟩\n",
      "  1  🟩   🟩   🟩   🟩   🌑   🟩   🟩   🟩\n",
      "  2  🟩   🟩   🌕   🟩   🟩   🌑   🟩   🌑\n",
      "  3  🟩   🟩   🟩   🌕   🌑   🟩   🌕   🟩\n",
      "  4  🟩   🟩   🟩   🌑   🌕   🟩   🟩   🟩\n",
      "  5  🟩   🟩   🌕   🟩   🟩   🟩   🟩   🟩\n",
      "  6  🟩   🟩   🟩   🟩   🟩   🟩   🟩   🟩\n",
      "  7  🟩   🌑   🌑   🌕   🟩   🟩   🟩   🟩\n",
      "Computer's turn...\n",
      "  /  a    b    c    d    e    f    g    h\n",
      "---  ---  ---  ---  ---  ---  ---  ---  ---\n",
      "  0  🟩   🟩   🟩   🟩   🟩   🟩   🟩   🟩\n",
      "  1  🟩   🟩   🌕   🟩   🌑   🟩   🟩   🟩\n",
      "  2  🟩   🟩   🌕   🟩   🟩   🌑   🟩   🌑\n",
      "  3  🟩   🟩   🟩   🌕   🌑   🟩   🌕   🟩\n",
      "  4  🟩   🟩   🟩   🌑   🌕   🟩   🟩   🟩\n",
      "  5  🟩   🟩   🌕   🟩   🟩   🟩   🟩   🟩\n",
      "  6  🟩   🟩   🟩   🟩   🟩   🟩   🟩   🟩\n",
      "  7  🟩   🌑   🌑   🌕   🟩   🟩   🟩   🟩\n",
      "  /  a    b    c    d    e    f    g    h\n",
      "---  ---  ---  ---  ---  ---  ---  ---  ---\n",
      "  0  🟩   🟩   🟩   🟩   🟩   🟩   🟩   🟩\n",
      "  1  🟩   🟩   🌕   🟩   🌑   🟩   🟩   🟩\n",
      "  2  🟩   🟩   🌕   🟩   🟩   🌑   🟩   🌑\n",
      "  3  🟩   🟩   🟩   🌕   🌑   🟩   🌕   🟩\n",
      "  4  🟩   🟩   🟩   🌑   🌕   🟩   🟩   🟩\n",
      "  5  🟩   🟩   🌕   🟩   🟩   🟩   🟩   🟩\n",
      "  6  🟩   🟩   🟩   🟩   🟩   🟩   🟩   🟩\n",
      "  7  🟩   🌑   🌑   🌑   🌑   🟩   🟩   🟩\n",
      "Computer's turn...\n",
      "  /  a    b    c    d    e    f    g    h\n",
      "---  ---  ---  ---  ---  ---  ---  ---  ---\n",
      "  0  🟩   🟩   🟩   🟩   🟩   🟩   🟩   🟩\n",
      "  1  🟩   🟩   🌕   🌕   🌑   🟩   🟩   🟩\n",
      "  2  🟩   🟩   🌕   🟩   🟩   🌑   🟩   🌑\n",
      "  3  🟩   🟩   🟩   🌕   🌑   🟩   🌕   🟩\n",
      "  4  🟩   🟩   🟩   🌑   🌕   🟩   🟩   🟩\n",
      "  5  🟩   🟩   🌕   🟩   🟩   🟩   🟩   🟩\n",
      "  6  🟩   🟩   🟩   🟩   🟩   🟩   🟩   🟩\n",
      "  7  🟩   🌑   🌑   🌑   🌑   🟩   🟩   🟩\n",
      "  /  a    b    c    d    e    f    g    h\n",
      "---  ---  ---  ---  ---  ---  ---  ---  ---\n",
      "  0  🟩   🟩   🟩   🟩   🌑   🟩   🟩   🟩\n",
      "  1  🟩   🟩   🌕   🌕   🌑   🟩   🟩   🟩\n",
      "  2  🟩   🟩   🌕   🟩   🟩   🌑   🟩   🌑\n",
      "  3  🟩   🟩   🟩   🌕   🌑   🟩   🌕   🟩\n",
      "  4  🟩   🟩   🟩   🌑   🌕   🟩   🟩   🟩\n",
      "  5  🟩   🟩   🌕   🟩   🟩   🟩   🟩   🟩\n",
      "  6  🟩   🟩   🟩   🟩   🟩   🟩   🟩   🟩\n",
      "  7  🟩   🌑   🌑   🌑   🌑   🟩   🟩   🟩\n",
      "Computer's turn...\n",
      "  /  a    b    c    d    e    f    g    h\n",
      "---  ---  ---  ---  ---  ---  ---  ---  ---\n",
      "  0  🟩   🟩   🟩   🟩   🌑   🟩   🟩   🟩\n",
      "  1  🟩   🟩   🌕   🌕   🌑   🟩   🟩   🟩\n",
      "  2  🟩   🟩   🌕   🟩   🟩   🌑   🟩   🌑\n",
      "  3  🟩   🟩   🟩   🌕   🌑   🟩   🌕   🟩\n",
      "  4  🟩   🟩   🟩   🌑   🌕   🟩   🟩   🟩\n",
      "  5  🟩   🟩   🌕   🟩   🟩   🟩   🟩   🟩\n",
      "  6  🟩   🟩   🟩   🟩   🟩   🟩   🟩   🟩\n",
      "  7  🟩   🌑   🌑   🌑   🌑   🌕   🟩   🟩\n",
      "  /  a    b    c    d    e    f    g    h\n",
      "---  ---  ---  ---  ---  ---  ---  ---  ---\n",
      "  0  🟩   🟩   🟩   🟩   🌑   🟩   🟩   🟩\n",
      "  1  🟩   🟩   🌕   🌕   🌑   🟩   🟩   🟩\n",
      "  2  🟩   🟩   🌕   🟩   🟩   🌑   🟩   🌑\n",
      "  3  🌑   🟩   🟩   🌕   🌑   🟩   🌕   🟩\n",
      "  4  🟩   🟩   🟩   🌑   🌕   🟩   🟩   🟩\n",
      "  5  🟩   🟩   🌕   🟩   🟩   🟩   🟩   🟩\n",
      "  6  🟩   🟩   🟩   🟩   🟩   🟩   🟩   🟩\n",
      "  7  🟩   🌑   🌑   🌑   🌑   🌕   🟩   🟩\n",
      "Computer's turn...\n",
      "  /  a    b    c    d    e    f    g    h\n",
      "---  ---  ---  ---  ---  ---  ---  ---  ---\n",
      "  0  🟩   🟩   🟩   🟩   🌑   🟩   🟩   🟩\n",
      "  1  🟩   🟩   🌕   🌕   🌑   🟩   🟩   🟩\n",
      "  2  🟩   🟩   🌕   🟩   🟩   🌑   🌕   🌑\n",
      "  3  🌑   🟩   🟩   🌕   🌑   🟩   🌕   🟩\n",
      "  4  🟩   🟩   🟩   🌑   🌕   🟩   🟩   🟩\n",
      "  5  🟩   🟩   🌕   🟩   🟩   🟩   🟩   🟩\n",
      "  6  🟩   🟩   🟩   🟩   🟩   🟩   🟩   🟩\n",
      "  7  🟩   🌑   🌑   🌑   🌑   🌕   🟩   🟩\n",
      "  /  a    b    c    d    e    f    g    h\n",
      "---  ---  ---  ---  ---  ---  ---  ---  ---\n",
      "  0  🟩   🟩   🟩   🟩   🌑   🟩   🟩   🟩\n",
      "  1  🟩   🟩   🌕   🌕   🌑   🟩   🟩   🟩\n",
      "  2  🟩   🟩   🌕   🟩   🟩   🌑   🌕   🌑\n",
      "  3  🌑   🟩   🟩   🌕   🌑   🟩   🌑   🟩\n",
      "  4  🟩   🟩   🟩   🌑   🌑   🌑   🟩   🟩\n",
      "  5  🟩   🟩   🌕   🟩   🟩   🟩   🟩   🟩\n",
      "  6  🟩   🟩   🟩   🟩   🟩   🟩   🟩   🟩\n",
      "  7  🟩   🌑   🌑   🌑   🌑   🌕   🟩   🟩\n",
      "Computer's turn...\n",
      "  /  a    b    c    d    e    f    g    h\n",
      "---  ---  ---  ---  ---  ---  ---  ---  ---\n",
      "  0  🟩   🟩   🟩   🟩   🌑   🟩   🟩   🟩\n",
      "  1  🟩   🟩   🌕   🌕   🌑   🟩   🟩   🟩\n",
      "  2  🟩   🟩   🌕   🟩   🟩   🌑   🌕   🌑\n",
      "  3  🌑   🟩   🟩   🌕   🌑   🟩   🌑   🟩\n",
      "  4  🟩   🟩   🟩   🌑   🌑   🌑   🟩   🟩\n",
      "  5  🟩   🟩   🌕   🟩   🟩   🟩   🟩   🟩\n",
      "  6  🌕   🟩   🟩   🟩   🟩   🟩   🟩   🟩\n",
      "  7  🟩   🌑   🌑   🌑   🌑   🌕   🟩   🟩\n",
      "  /  a    b    c    d    e    f    g    h\n",
      "---  ---  ---  ---  ---  ---  ---  ---  ---\n",
      "  0  🟩   🟩   🟩   🟩   🌑   🟩   🟩   🟩\n",
      "  1  🟩   🟩   🌕   🌕   🌑   🟩   🟩   🟩\n",
      "  2  🟩   🟩   🌕   🟩   🟩   🌑   🌕   🌑\n",
      "  3  🌑   🟩   🟩   🌕   🌑   🟩   🌑   🟩\n",
      "  4  🟩   🟩   🟩   🌑   🌑   🌑   🟩   🟩\n",
      "  5  🟩   🟩   🌕   🟩   🟩   🟩   🟩   🟩\n",
      "  6  🌕   🟩   🌑   🟩   🟩   🟩   🟩   🟩\n",
      "  7  🟩   🌑   🌑   🌑   🌑   🌕   🟩   🟩\n",
      "Computer's turn...\n",
      "  /  a    b    c    d    e    f    g    h\n",
      "---  ---  ---  ---  ---  ---  ---  ---  ---\n",
      "  0  🟩   🟩   🟩   🟩   🌑   🟩   🟩   🟩\n",
      "  1  🟩   🟩   🌕   🌕   🌑   🟩   🟩   🌕\n",
      "  2  🟩   🟩   🌕   🟩   🟩   🌑   🌕   🌑\n",
      "  3  🌑   🟩   🟩   🌕   🌑   🟩   🌑   🟩\n",
      "  4  🟩   🟩   🟩   🌑   🌑   🌑   🟩   🟩\n",
      "  5  🟩   🟩   🌕   🟩   🟩   🟩   🟩   🟩\n",
      "  6  🌕   🟩   🌑   🟩   🟩   🟩   🟩   🟩\n",
      "  7  🟩   🌑   🌑   🌑   🌑   🌕   🟩   🟩\n",
      "  /  a    b    c    d    e    f    g    h\n",
      "---  ---  ---  ---  ---  ---  ---  ---  ---\n",
      "  0  🟩   🟩   🟩   🟩   🌑   🟩   🟩   🟩\n",
      "  1  🟩   🟩   🌕   🌑   🌑   🟩   🟩   🌕\n",
      "  2  🟩   🟩   🌑   🟩   🟩   🌑   🌕   🌑\n",
      "  3  🌑   🌑   🟩   🌕   🌑   🟩   🌑   🟩\n",
      "  4  🟩   🟩   🟩   🌑   🌑   🌑   🟩   🟩\n",
      "  5  🟩   🟩   🌕   🟩   🟩   🟩   🟩   🟩\n",
      "  6  🌕   🟩   🌑   🟩   🟩   🟩   🟩   🟩\n",
      "  7  🟩   🌑   🌑   🌑   🌑   🌕   🟩   🟩\n",
      "Computer's turn...\n",
      "  /  a    b    c    d    e    f    g    h\n",
      "---  ---  ---  ---  ---  ---  ---  ---  ---\n",
      "  0  🟩   🟩   🟩   🟩   🌑   🟩   🟩   🟩\n",
      "  1  🟩   🟩   🌕   🌑   🌑   🟩   🟩   🌕\n",
      "  2  🟩   🟩   🌑   🟩   🟩   🌑   🌕   🌑\n",
      "  3  🌑   🌑   🟩   🌕   🌑   🟩   🌑   🟩\n",
      "  4  🟩   🟩   🟩   🌕   🌑   🌑   🟩   🟩\n",
      "  5  🟩   🟩   🌕   🌕   🟩   🟩   🟩   🟩\n",
      "  6  🌕   🟩   🌑   🟩   🟩   🟩   🟩   🟩\n",
      "  7  🟩   🌑   🌑   🌑   🌑   🌕   🟩   🟩\n",
      "  /  a    b    c    d    e    f    g    h\n",
      "---  ---  ---  ---  ---  ---  ---  ---  ---\n",
      "  0  🟩   🟩   🟩   🟩   🌑   🟩   🟩   🟩\n",
      "  1  🟩   🟩   🌕   🌑   🌑   🟩   🟩   🌕\n",
      "  2  🟩   🟩   🌑   🟩   🟩   🌑   🌕   🌑\n",
      "  3  🌑   🌑   🟩   🌕   🌑   🟩   🌑   🟩\n",
      "  4  🟩   🌑   🟩   🌕   🌑   🌑   🟩   🟩\n",
      "  5  🟩   🟩   🌕   🌕   🟩   🟩   🟩   🟩\n",
      "  6  🌕   🟩   🌑   🟩   🟩   🟩   🟩   🟩\n",
      "  7  🟩   🌑   🌑   🌑   🌑   🌕   🟩   🟩\n",
      "Computer's turn...\n",
      "  /  a    b    c    d    e    f    g    h\n",
      "---  ---  ---  ---  ---  ---  ---  ---  ---\n",
      "  0  🟩   🟩   🟩   🟩   🌑   🟩   🟩   🟩\n",
      "  1  🌕   🟩   🌕   🌑   🌑   🟩   🟩   🌕\n",
      "  2  🟩   🟩   🌑   🟩   🟩   🌑   🌕   🌑\n",
      "  3  🌑   🌑   🟩   🌕   🌑   🟩   🌑   🟩\n",
      "  4  🟩   🌑   🟩   🌕   🌑   🌑   🟩   🟩\n",
      "  5  🟩   🟩   🌕   🌕   🟩   🟩   🟩   🟩\n",
      "  6  🌕   🟩   🌑   🟩   🟩   🟩   🟩   🟩\n",
      "  7  🟩   🌑   🌑   🌑   🌑   🌕   🟩   🟩\n",
      "  /  a    b    c    d    e    f    g    h\n",
      "---  ---  ---  ---  ---  ---  ---  ---  ---\n",
      "  0  🟩   🟩   🟩   🟩   🌑   🟩   🟩   🟩\n",
      "  1  🌕   🟩   🌕   🌑   🌑   🟩   🟩   🌕\n",
      "  2  🟩   🟩   🌑   🌑   🟩   🌑   🌕   🌑\n",
      "  3  🌑   🌑   🟩   🌕   🌑   🟩   🌑   🟩\n",
      "  4  🟩   🌑   🟩   🌕   🌑   🌑   🟩   🟩\n",
      "  5  🟩   🟩   🌕   🌕   🟩   🟩   🟩   🟩\n",
      "  6  🌕   🟩   🌑   🟩   🟩   🟩   🟩   🟩\n",
      "  7  🟩   🌑   🌑   🌑   🌑   🌕   🟩   🟩\n",
      "Computer's turn...\n",
      "  /  a    b    c    d    e    f    g    h\n",
      "---  ---  ---  ---  ---  ---  ---  ---  ---\n",
      "  0  🟩   🟩   🟩   🟩   🌑   🟩   🟩   🟩\n",
      "  1  🌕   🟩   🌕   🌑   🌑   🟩   🟩   🌕\n",
      "  2  🟩   🟩   🌑   🌑   🟩   🌑   🌕   🌑\n",
      "  3  🌑   🌑   🟩   🌕   🌑   🟩   🌑   🟩\n",
      "  4  🟩   🌑   🟩   🌕   🌑   🌑   🟩   🟩\n",
      "  5  🟩   🟩   🌕   🌕   🟩   🟩   🟩   🟩\n",
      "  6  🌕   🟩   🌑   🟩   🟩   🟩   🟩   🟩\n",
      "  7  🌕   🌕   🌕   🌕   🌕   🌕   🟩   🟩\n",
      "  /  a    b    c    d    e    f    g    h\n",
      "---  ---  ---  ---  ---  ---  ---  ---  ---\n",
      "  0  🟩   🟩   🟩   🟩   🌑   🟩   🟩   🟩\n",
      "  1  🌕   🟩   🌕   🌑   🌑   🟩   🟩   🌕\n",
      "  2  🌑   🟩   🌑   🌑   🟩   🌑   🌕   🌑\n",
      "  3  🌑   🌑   🟩   🌕   🌑   🟩   🌑   🟩\n",
      "  4  🟩   🌑   🟩   🌕   🌑   🌑   🟩   🟩\n",
      "  5  🟩   🟩   🌕   🌕   🟩   🟩   🟩   🟩\n",
      "  6  🌕   🟩   🌑   🟩   🟩   🟩   🟩   🟩\n",
      "  7  🌕   🌕   🌕   🌕   🌕   🌕   🟩   🟩\n",
      "Computer's turn...\n",
      "  /  a    b    c    d    e    f    g    h\n",
      "---  ---  ---  ---  ---  ---  ---  ---  ---\n",
      "  0  🟩   🟩   🟩   🟩   🌑   🟩   🌕   🟩\n",
      "  1  🌕   🟩   🌕   🌑   🌑   🟩   🟩   🌕\n",
      "  2  🌑   🟩   🌑   🌑   🟩   🌑   🌕   🌑\n",
      "  3  🌑   🌑   🟩   🌕   🌑   🟩   🌑   🟩\n",
      "  4  🟩   🌑   🟩   🌕   🌑   🌑   🟩   🟩\n",
      "  5  🟩   🟩   🌕   🌕   🟩   🟩   🟩   🟩\n",
      "  6  🌕   🟩   🌑   🟩   🟩   🟩   🟩   🟩\n",
      "  7  🌕   🌕   🌕   🌕   🌕   🌕   🟩   🟩\n",
      "  /  a    b    c    d    e    f    g    h\n",
      "---  ---  ---  ---  ---  ---  ---  ---  ---\n",
      "  0  🟩   🟩   🟩   🟩   🌑   🟩   🌕   🟩\n",
      "  1  🌕   🟩   🌕   🌑   🌑   🌑   🟩   🌕\n",
      "  2  🌑   🟩   🌑   🌑   🟩   🌑   🌕   🌑\n",
      "  3  🌑   🌑   🟩   🌕   🌑   🟩   🌑   🟩\n",
      "  4  🟩   🌑   🟩   🌕   🌑   🌑   🟩   🟩\n",
      "  5  🟩   🟩   🌕   🌕   🟩   🟩   🟩   🟩\n",
      "  6  🌕   🟩   🌑   🟩   🟩   🟩   🟩   🟩\n",
      "  7  🌕   🌕   🌕   🌕   🌕   🌕   🟩   🟩\n",
      "Computer's turn...\n",
      "  /  a    b    c    d    e    f    g    h\n",
      "---  ---  ---  ---  ---  ---  ---  ---  ---\n",
      "  0  🟩   🟩   🟩   🟩   🌑   🟩   🌕   🟩\n",
      "  1  🌕   🟩   🌕   🌑   🌑   🌕   🟩   🌕\n",
      "  2  🌑   🟩   🌑   🌑   🌕   🌕   🌕   🌑\n",
      "  3  🌑   🌑   🟩   🌕   🌑   🟩   🌑   🟩\n",
      "  4  🟩   🌑   🟩   🌕   🌑   🌑   🟩   🟩\n",
      "  5  🟩   🟩   🌕   🌕   🟩   🟩   🟩   🟩\n",
      "  6  🌕   🟩   🌑   🟩   🟩   🟩   🟩   🟩\n",
      "  7  🌕   🌕   🌕   🌕   🌕   🌕   🟩   🟩\n",
      "  /  a    b    c    d    e    f    g    h\n",
      "---  ---  ---  ---  ---  ---  ---  ---  ---\n",
      "  0  🟩   🟩   🟩   🟩   🌑   🟩   🌕   🌑\n",
      "  1  🌕   🟩   🌕   🌑   🌑   🌕   🟩   🌑\n",
      "  2  🌑   🟩   🌑   🌑   🌕   🌕   🌕   🌑\n",
      "  3  🌑   🌑   🟩   🌕   🌑   🟩   🌑   🟩\n",
      "  4  🟩   🌑   🟩   🌕   🌑   🌑   🟩   🟩\n",
      "  5  🟩   🟩   🌕   🌕   🟩   🟩   🟩   🟩\n",
      "  6  🌕   🟩   🌑   🟩   🟩   🟩   🟩   🟩\n",
      "  7  🌕   🌕   🌕   🌕   🌕   🌕   🟩   🟩\n",
      "Computer's turn...\n",
      "  /  a    b    c    d    e    f    g    h\n",
      "---  ---  ---  ---  ---  ---  ---  ---  ---\n",
      "  0  🟩   🟩   🟩   🟩   🌑   🟩   🌕   🌑\n",
      "  1  🌕   🟩   🌕   🌑   🌑   🌕   🟩   🌑\n",
      "  2  🌑   🟩   🌑   🌕   🌕   🌕   🌕   🌑\n",
      "  3  🌑   🌑   🟩   🌕   🌕   🟩   🌑   🟩\n",
      "  4  🟩   🌑   🟩   🌕   🌑   🌕   🟩   🟩\n",
      "  5  🟩   🟩   🌕   🌕   🟩   🟩   🌕   🟩\n",
      "  6  🌕   🟩   🌑   🟩   🟩   🟩   🟩   🟩\n",
      "  7  🌕   🌕   🌕   🌕   🌕   🌕   🟩   🟩\n",
      "  /  a    b    c    d    e    f    g    h\n",
      "---  ---  ---  ---  ---  ---  ---  ---  ---\n",
      "  0  🌑   🟩   🟩   🟩   🌑   🟩   🌕   🌑\n",
      "  1  🌑   🟩   🌕   🌑   🌑   🌕   🟩   🌑\n",
      "  2  🌑   🟩   🌑   🌕   🌕   🌕   🌕   🌑\n",
      "  3  🌑   🌑   🟩   🌕   🌕   🟩   🌑   🟩\n",
      "  4  🟩   🌑   🟩   🌕   🌑   🌕   🟩   🟩\n",
      "  5  🟩   🟩   🌕   🌕   🟩   🟩   🌕   🟩\n",
      "  6  🌕   🟩   🌑   🟩   🟩   🟩   🟩   🟩\n",
      "  7  🌕   🌕   🌕   🌕   🌕   🌕   🟩   🟩\n",
      "Computer's turn...\n",
      "  /  a    b    c    d    e    f    g    h\n",
      "---  ---  ---  ---  ---  ---  ---  ---  ---\n",
      "  0  🌑   🟩   🟩   🟩   🌑   🟩   🌕   🌑\n",
      "  1  🌑   🟩   🌕   🌑   🌑   🌕   🟩   🌑\n",
      "  2  🌑   🟩   🌑   🌕   🌕   🌕   🌕   🌑\n",
      "  3  🌑   🌑   🟩   🌕   🌕   🟩   🌑   🟩\n",
      "  4  🟩   🌑   🟩   🌕   🌑   🌕   🟩   🟩\n",
      "  5  🟩   🟩   🌕   🌕   🟩   🟩   🌕   🟩\n",
      "  6  🌕   🟩   🌑   🟩   🌕   🟩   🟩   🟩\n",
      "  7  🌕   🌕   🌕   🌕   🌕   🌕   🟩   🟩\n",
      "  /  a    b    c    d    e    f    g    h\n",
      "---  ---  ---  ---  ---  ---  ---  ---  ---\n",
      "  0  🌑   🟩   🟩   🟩   🌑   🟩   🌕   🌑\n",
      "  1  🌑   🟩   🌕   🌑   🌑   🌕   🟩   🌑\n",
      "  2  🌑   🟩   🌑   🌑   🌕   🌕   🌕   🌑\n",
      "  3  🌑   🌑   🌑   🌕   🌕   🟩   🌑   🟩\n",
      "  4  🟩   🌑   🟩   🌕   🌑   🌕   🟩   🟩\n",
      "  5  🟩   🟩   🌕   🌕   🟩   🟩   🌕   🟩\n",
      "  6  🌕   🟩   🌑   🟩   🌕   🟩   🟩   🟩\n",
      "  7  🌕   🌕   🌕   🌕   🌕   🌕   🟩   🟩\n",
      "Computer's turn...\n",
      "  /  a    b    c    d    e    f    g    h\n",
      "---  ---  ---  ---  ---  ---  ---  ---  ---\n",
      "  0  🌑   🟩   🟩   🟩   🌑   🟩   🌕   🌑\n",
      "  1  🌑   🟩   🌕   🌑   🌑   🌕   🟩   🌑\n",
      "  2  🌑   🟩   🌕   🌑   🌕   🌕   🌕   🌑\n",
      "  3  🌑   🌑   🌕   🌕   🌕   🟩   🌑   🟩\n",
      "  4  🟩   🌑   🌕   🌕   🌑   🌕   🟩   🟩\n",
      "  5  🟩   🟩   🌕   🌕   🟩   🟩   🌕   🟩\n",
      "  6  🌕   🟩   🌑   🟩   🌕   🟩   🟩   🟩\n",
      "  7  🌕   🌕   🌕   🌕   🌕   🌕   🟩   🟩\n",
      "  /  a    b    c    d    e    f    g    h\n",
      "---  ---  ---  ---  ---  ---  ---  ---  ---\n",
      "  0  🌑   🟩   🟩   🟩   🌑   🟩   🌕   🌑\n",
      "  1  🌑   🟩   🌕   🌑   🌑   🌕   🟩   🌑\n",
      "  2  🌑   🟩   🌕   🌑   🌕   🌕   🌕   🌑\n",
      "  3  🌑   🌑   🌕   🌕   🌕   🟩   🌑   🟩\n",
      "  4  🟩   🌑   🌕   🌕   🌑   🌑   🌑   🟩\n",
      "  5  🟩   🟩   🌕   🌕   🟩   🟩   🌕   🟩\n",
      "  6  🌕   🟩   🌑   🟩   🌕   🟩   🟩   🟩\n",
      "  7  🌕   🌕   🌕   🌕   🌕   🌕   🟩   🟩\n",
      "Computer's turn...\n",
      "  /  a    b    c    d    e    f    g    h\n",
      "---  ---  ---  ---  ---  ---  ---  ---  ---\n",
      "  0  🌑   🟩   🟩   🟩   🌑   🟩   🌕   🌑\n",
      "  1  🌑   🟩   🌕   🌑   🌑   🌕   🌕   🌑\n",
      "  2  🌑   🟩   🌕   🌑   🌕   🌕   🌕   🌑\n",
      "  3  🌑   🌑   🌕   🌕   🌕   🟩   🌑   🟩\n",
      "  4  🟩   🌑   🌕   🌕   🌑   🌑   🌑   🟩\n",
      "  5  🟩   🟩   🌕   🌕   🟩   🟩   🌕   🟩\n",
      "  6  🌕   🟩   🌑   🟩   🌕   🟩   🟩   🟩\n",
      "  7  🌕   🌕   🌕   🌕   🌕   🌕   🟩   🟩\n",
      "  /  a    b    c    d    e    f    g    h\n",
      "---  ---  ---  ---  ---  ---  ---  ---  ---\n",
      "  0  🌑   🟩   🟩   🟩   🌑   🌑   🌑   🌑\n",
      "  1  🌑   🟩   🌕   🌑   🌑   🌕   🌑   🌑\n",
      "  2  🌑   🟩   🌕   🌑   🌕   🌕   🌕   🌑\n",
      "  3  🌑   🌑   🌕   🌕   🌕   🟩   🌑   🟩\n",
      "  4  🟩   🌑   🌕   🌕   🌑   🌑   🌑   🟩\n",
      "  5  🟩   🟩   🌕   🌕   🟩   🟩   🌕   🟩\n",
      "  6  🌕   🟩   🌑   🟩   🌕   🟩   🟩   🟩\n",
      "  7  🌕   🌕   🌕   🌕   🌕   🌕   🟩   🟩\n",
      "Computer's turn...\n",
      "  /  a    b    c    d    e    f    g    h\n",
      "---  ---  ---  ---  ---  ---  ---  ---  ---\n",
      "  0  🌑   🟩   🟩   🟩   🌑   🌑   🌑   🌑\n",
      "  1  🌑   🟩   🌕   🌑   🌑   🌕   🌑   🌑\n",
      "  2  🌑   🟩   🌕   🌑   🌕   🌕   🌕   🌑\n",
      "  3  🌑   🌑   🌕   🌕   🌕   🟩   🌑   🟩\n",
      "  4  🟩   🌑   🌕   🌕   🌑   🌑   🌑   🟩\n",
      "  5  🟩   🟩   🌕   🌕   🟩   🟩   🌕   🌕\n",
      "  6  🌕   🟩   🌑   🟩   🌕   🟩   🟩   🟩\n",
      "  7  🌕   🌕   🌕   🌕   🌕   🌕   🟩   🟩\n",
      "  /  a    b    c    d    e    f    g    h\n",
      "---  ---  ---  ---  ---  ---  ---  ---  ---\n",
      "  0  🌑   🟩   🟩   🌑   🌑   🌑   🌑   🌑\n",
      "  1  🌑   🟩   🌕   🌑   🌑   🌕   🌑   🌑\n",
      "  2  🌑   🟩   🌕   🌑   🌕   🌕   🌕   🌑\n",
      "  3  🌑   🌑   🌕   🌕   🌕   🟩   🌑   🟩\n",
      "  4  🟩   🌑   🌕   🌕   🌑   🌑   🌑   🟩\n",
      "  5  🟩   🟩   🌕   🌕   🟩   🟩   🌕   🌕\n",
      "  6  🌕   🟩   🌑   🟩   🌕   🟩   🟩   🟩\n",
      "  7  🌕   🌕   🌕   🌕   🌕   🌕   🟩   🟩\n",
      "Computer's turn...\n",
      "  /  a    b    c    d    e    f    g    h\n",
      "---  ---  ---  ---  ---  ---  ---  ---  ---\n",
      "  0  🌑   🟩   🟩   🌑   🌑   🌑   🌑   🌑\n",
      "  1  🌑   🟩   🌕   🌑   🌑   🌕   🌑   🌑\n",
      "  2  🌑   🟩   🌕   🌑   🌕   🌕   🌕   🌑\n",
      "  3  🌑   🌑   🌕   🌕   🌕   🟩   🌑   🟩\n",
      "  4  🟩   🌕   🌕   🌕   🌑   🌑   🌑   🟩\n",
      "  5  🌕   🟩   🌕   🌕   🟩   🟩   🌕   🌕\n",
      "  6  🌕   🟩   🌑   🟩   🌕   🟩   🟩   🟩\n",
      "  7  🌕   🌕   🌕   🌕   🌕   🌕   🟩   🟩\n",
      "  /  a    b    c    d    e    f    g    h\n",
      "---  ---  ---  ---  ---  ---  ---  ---  ---\n",
      "  0  🌑   🟩   🟩   🌑   🌑   🌑   🌑   🌑\n",
      "  1  🌑   🟩   🌑   🌑   🌑   🌕   🌑   🌑\n",
      "  2  🌑   🌑   🌑   🌑   🌕   🌕   🌕   🌑\n",
      "  3  🌑   🌑   🌕   🌕   🌕   🟩   🌑   🟩\n",
      "  4  🟩   🌕   🌕   🌕   🌑   🌑   🌑   🟩\n",
      "  5  🌕   🟩   🌕   🌕   🟩   🟩   🌕   🌕\n",
      "  6  🌕   🟩   🌑   🟩   🌕   🟩   🟩   🟩\n",
      "  7  🌕   🌕   🌕   🌕   🌕   🌕   🟩   🟩\n",
      "Computer's turn...\n",
      "  /  a    b    c    d    e    f    g    h\n",
      "---  ---  ---  ---  ---  ---  ---  ---  ---\n",
      "  0  🌑   🟩   🟩   🌑   🌑   🌑   🌑   🌑\n",
      "  1  🌑   🟩   🌑   🌑   🌑   🌕   🌑   🌑\n",
      "  2  🌑   🌑   🌑   🌑   🌕   🌕   🌕   🌑\n",
      "  3  🌑   🌑   🌕   🌕   🌕   🟩   🌑   🟩\n",
      "  4  🟩   🌕   🌕   🌕   🌑   🌑   🌑   🟩\n",
      "  5  🌕   🟩   🌕   🌕   🟩   🟩   🌕   🌕\n",
      "  6  🌕   🟩   🌑   🟩   🌕   🟩   🟩   🌕\n",
      "  7  🌕   🌕   🌕   🌕   🌕   🌕   🟩   🟩\n",
      "  /  a    b    c    d    e    f    g    h\n",
      "---  ---  ---  ---  ---  ---  ---  ---  ---\n",
      "  0  🌑   🟩   🟩   🌑   🌑   🌑   🌑   🌑\n",
      "  1  🌑   🟩   🌑   🌑   🌑   🌕   🌑   🌑\n",
      "  2  🌑   🌑   🌑   🌑   🌕   🌑   🌕   🌑\n",
      "  3  🌑   🌑   🌕   🌕   🌑   🟩   🌑   🟩\n",
      "  4  🟩   🌕   🌕   🌑   🌑   🌑   🌑   🟩\n",
      "  5  🌕   🟩   🌑   🌕   🟩   🟩   🌕   🌕\n",
      "  6  🌕   🌑   🌑   🟩   🌕   🟩   🟩   🌕\n",
      "  7  🌕   🌕   🌕   🌕   🌕   🌕   🟩   🟩\n",
      "Computer's turn...\n",
      "  /  a    b    c    d    e    f    g    h\n",
      "---  ---  ---  ---  ---  ---  ---  ---  ---\n",
      "  0  🌑   🌕   🟩   🌑   🌑   🌑   🌑   🌑\n",
      "  1  🌑   🟩   🌕   🌑   🌑   🌕   🌑   🌑\n",
      "  2  🌑   🌑   🌑   🌕   🌕   🌑   🌕   🌑\n",
      "  3  🌑   🌑   🌕   🌕   🌕   🟩   🌑   🟩\n",
      "  4  🟩   🌕   🌕   🌑   🌑   🌕   🌑   🟩\n",
      "  5  🌕   🟩   🌑   🌕   🟩   🟩   🌕   🌕\n",
      "  6  🌕   🌑   🌑   🟩   🌕   🟩   🟩   🌕\n",
      "  7  🌕   🌕   🌕   🌕   🌕   🌕   🟩   🟩\n",
      "  /  a    b    c    d    e    f    g    h\n",
      "---  ---  ---  ---  ---  ---  ---  ---  ---\n",
      "  0  🌑   🌑   🌑   🌑   🌑   🌑   🌑   🌑\n",
      "  1  🌑   🟩   🌑   🌑   🌑   🌕   🌑   🌑\n",
      "  2  🌑   🌑   🌑   🌕   🌕   🌑   🌕   🌑\n",
      "  3  🌑   🌑   🌕   🌕   🌕   🟩   🌑   🟩\n",
      "  4  🟩   🌕   🌕   🌑   🌑   🌕   🌑   🟩\n",
      "  5  🌕   🟩   🌑   🌕   🟩   🟩   🌕   🌕\n",
      "  6  🌕   🌑   🌑   🟩   🌕   🟩   🟩   🌕\n",
      "  7  🌕   🌕   🌕   🌕   🌕   🌕   🟩   🟩\n",
      "Computer's turn...\n",
      "  /  a    b    c    d    e    f    g    h\n",
      "---  ---  ---  ---  ---  ---  ---  ---  ---\n",
      "  0  🌑   🌑   🌑   🌑   🌑   🌑   🌑   🌑\n",
      "  1  🌑   🟩   🌑   🌑   🌑   🌕   🌑   🌑\n",
      "  2  🌑   🌑   🌑   🌕   🌕   🌑   🌕   🌑\n",
      "  3  🌑   🌑   🌕   🌕   🌕   🟩   🌑   🟩\n",
      "  4  🟩   🌕   🌕   🌑   🌑   🌕   🌑   🟩\n",
      "  5  🌕   🟩   🌑   🌕   🟩   🟩   🌕   🌕\n",
      "  6  🌕   🌑   🌑   🟩   🌕   🌕   🟩   🌕\n",
      "  7  🌕   🌕   🌕   🌕   🌕   🌕   🟩   🟩\n",
      "  /  a    b    c    d    e    f    g    h\n",
      "---  ---  ---  ---  ---  ---  ---  ---  ---\n",
      "  0  🌑   🌑   🌑   🌑   🌑   🌑   🌑   🌑\n",
      "  1  🌑   🟩   🌑   🌑   🌑   🌕   🌑   🌑\n",
      "  2  🌑   🌑   🌑   🌕   🌑   🌑   🌑   🌑\n",
      "  3  🌑   🌑   🌑   🌑   🌑   🌑   🌑   🟩\n",
      "  4  🟩   🌕   🌕   🌑   🌑   🌕   🌑   🟩\n",
      "  5  🌕   🟩   🌑   🌕   🟩   🟩   🌕   🌕\n",
      "  6  🌕   🌑   🌑   🟩   🌕   🌕   🟩   🌕\n",
      "  7  🌕   🌕   🌕   🌕   🌕   🌕   🟩   🟩\n",
      "Computer's turn...\n",
      "  /  a    b    c    d    e    f    g    h\n",
      "---  ---  ---  ---  ---  ---  ---  ---  ---\n",
      "  0  🌑   🌑   🌑   🌑   🌑   🌑   🌑   🌑\n",
      "  1  🌑   🟩   🌑   🌑   🌑   🌕   🌑   🌑\n",
      "  2  🌑   🌑   🌑   🌕   🌑   🌑   🌑   🌑\n",
      "  3  🌑   🌑   🌑   🌑   🌑   🌑   🌑   🟩\n",
      "  4  🟩   🌕   🌕   🌑   🌑   🌕   🌑   🟩\n",
      "  5  🌕   🟩   🌑   🌕   🟩   🟩   🌕   🌕\n",
      "  6  🌕   🌑   🌑   🟩   🌕   🌕   🌕   🌕\n",
      "  7  🌕   🌕   🌕   🌕   🌕   🌕   🟩   🟩\n",
      "  /  a    b    c    d    e    f    g    h\n",
      "---  ---  ---  ---  ---  ---  ---  ---  ---\n",
      "  0  🌑   🌑   🌑   🌑   🌑   🌑   🌑   🌑\n",
      "  1  🌑   🟩   🌑   🌑   🌑   🌕   🌑   🌑\n",
      "  2  🌑   🌑   🌑   🌕   🌑   🌑   🌑   🌑\n",
      "  3  🌑   🌑   🌑   🌑   🌑   🌑   🌑   🟩\n",
      "  4  🟩   🌕   🌕   🌑   🌑   🌑   🌑   🟩\n",
      "  5  🌕   🟩   🌑   🌑   🌑   🟩   🌕   🌕\n",
      "  6  🌕   🌑   🌑   🟩   🌕   🌕   🌕   🌕\n",
      "  7  🌕   🌕   🌕   🌕   🌕   🌕   🟩   🟩\n",
      "Computer's turn...\n",
      "  /  a    b    c    d    e    f    g    h\n",
      "---  ---  ---  ---  ---  ---  ---  ---  ---\n",
      "  0  🌑   🌑   🌑   🌑   🌑   🌑   🌑   🌑\n",
      "  1  🌑   🟩   🌑   🌑   🌑   🌕   🌑   🌑\n",
      "  2  🌑   🌑   🌑   🌕   🌑   🌑   🌑   🌑\n",
      "  3  🌑   🌑   🌑   🌑   🌑   🌑   🌑   🟩\n",
      "  4  🌕   🌕   🌕   🌑   🌑   🌑   🌑   🟩\n",
      "  5  🌕   🟩   🌑   🌑   🌑   🟩   🌕   🌕\n",
      "  6  🌕   🌑   🌑   🟩   🌕   🌕   🌕   🌕\n",
      "  7  🌕   🌕   🌕   🌕   🌕   🌕   🟩   🟩\n",
      "  /  a    b    c    d    e    f    g    h\n",
      "---  ---  ---  ---  ---  ---  ---  ---  ---\n",
      "  0  🌑   🌑   🌑   🌑   🌑   🌑   🌑   🌑\n",
      "  1  🌑   🟩   🌑   🌑   🌑   🌕   🌑   🌑\n",
      "  2  🌑   🌑   🌑   🌕   🌑   🌑   🌑   🌑\n",
      "  3  🌑   🌑   🌑   🌑   🌑   🌑   🌑   🟩\n",
      "  4  🌕   🌑   🌑   🌑   🌑   🌑   🌑   🟩\n",
      "  5  🌕   🌑   🌑   🌑   🌑   🟩   🌕   🌕\n",
      "  6  🌕   🌑   🌑   🟩   🌕   🌕   🌕   🌕\n",
      "  7  🌕   🌕   🌕   🌕   🌕   🌕   🟩   🟩\n",
      "Computer's turn...\n",
      "  /  a    b    c    d    e    f    g    h\n",
      "---  ---  ---  ---  ---  ---  ---  ---  ---\n",
      "  0  🌑   🌑   🌑   🌑   🌑   🌑   🌑   🌑\n",
      "  1  🌑   🟩   🌑   🌑   🌑   🌕   🌑   🌑\n",
      "  2  🌑   🌑   🌑   🌕   🌑   🌑   🌑   🌑\n",
      "  3  🌑   🌑   🌑   🌑   🌑   🌑   🌑   🟩\n",
      "  4  🌕   🌑   🌑   🌑   🌑   🌑   🌑   🟩\n",
      "  5  🌕   🌑   🌑   🌑   🌑   🟩   🌕   🌕\n",
      "  6  🌕   🌑   🌑   🟩   🌕   🌕   🌕   🌕\n",
      "  7  🌕   🌕   🌕   🌕   🌕   🌕   🌕   🟩\n",
      "  /  a    b    c    d    e    f    g    h\n",
      "---  ---  ---  ---  ---  ---  ---  ---  ---\n",
      "  0  🌑   🌑   🌑   🌑   🌑   🌑   🌑   🌑\n",
      "  1  🌑   🟩   🌑   🌑   🌑   🌕   🌑   🌑\n",
      "  2  🌑   🌑   🌑   🌕   🌑   🌑   🌑   🌑\n",
      "  3  🌑   🌑   🌑   🌑   🌑   🌑   🌑   🟩\n",
      "  4  🌕   🌑   🌑   🌑   🌑   🌑   🌑   🟩\n",
      "  5  🌕   🌑   🌑   🌑   🌑   🟩   🌕   🌕\n",
      "  6  🌕   🌑   🌑   🌑   🌕   🌕   🌕   🌕\n",
      "  7  🌕   🌕   🌕   🌕   🌕   🌕   🌕   🟩\n",
      "Computer's turn...\n",
      "  /  a    b    c    d    e    f    g    h\n",
      "---  ---  ---  ---  ---  ---  ---  ---  ---\n",
      "  0  🌑   🌑   🌑   🌑   🌑   🌑   🌑   🌑\n",
      "  1  🌑   🟩   🌑   🌑   🌑   🌕   🌑   🌑\n",
      "  2  🌑   🌑   🌑   🌕   🌑   🌕   🌑   🌑\n",
      "  3  🌑   🌑   🌑   🌑   🌑   🌕   🌑   🟩\n",
      "  4  🌕   🌑   🌑   🌑   🌑   🌕   🌑   🟩\n",
      "  5  🌕   🌕   🌕   🌕   🌕   🌕   🌕   🌕\n",
      "  6  🌕   🌑   🌑   🌑   🌕   🌕   🌕   🌕\n",
      "  7  🌕   🌕   🌕   🌕   🌕   🌕   🌕   🟩\n",
      "  /  a    b    c    d    e    f    g    h\n",
      "---  ---  ---  ---  ---  ---  ---  ---  ---\n",
      "  0  🌑   🌑   🌑   🌑   🌑   🌑   🌑   🌑\n",
      "  1  🌑   🟩   🌑   🌑   🌑   🌕   🌑   🌑\n",
      "  2  🌑   🌑   🌑   🌕   🌑   🌕   🌑   🌑\n",
      "  3  🌑   🌑   🌑   🌑   🌑   🌕   🌑   🌑\n",
      "  4  🌕   🌑   🌑   🌑   🌑   🌕   🌑   🟩\n",
      "  5  🌕   🌕   🌕   🌕   🌕   🌕   🌕   🌕\n",
      "  6  🌕   🌑   🌑   🌑   🌕   🌕   🌕   🌕\n",
      "  7  🌕   🌕   🌕   🌕   🌕   🌕   🌕   🟩\n",
      "Computer's turn...\n",
      "  /  a    b    c    d    e    f    g    h\n",
      "---  ---  ---  ---  ---  ---  ---  ---  ---\n",
      "  0  🌑   🌑   🌑   🌑   🌑   🌑   🌑   🌑\n",
      "  1  🌑   🌕   🌕   🌕   🌕   🌕   🌑   🌑\n",
      "  2  🌑   🌕   🌕   🌕   🌑   🌕   🌑   🌑\n",
      "  3  🌑   🌕   🌑   🌕   🌑   🌕   🌑   🌑\n",
      "  4  🌕   🌕   🌑   🌑   🌕   🌕   🌑   🟩\n",
      "  5  🌕   🌕   🌕   🌕   🌕   🌕   🌕   🌕\n",
      "  6  🌕   🌑   🌑   🌑   🌕   🌕   🌕   🌕\n",
      "  7  🌕   🌕   🌕   🌕   🌕   🌕   🌕   🟩\n",
      "  /  a    b    c    d    e    f    g    h\n",
      "---  ---  ---  ---  ---  ---  ---  ---  ---\n",
      "  0  🌑   🌑   🌑   🌑   🌑   🌑   🌑   🌑\n",
      "  1  🌑   🌕   🌕   🌕   🌕   🌕   🌑   🌑\n",
      "  2  🌑   🌕   🌕   🌕   🌑   🌕   🌑   🌑\n",
      "  3  🌑   🌕   🌑   🌕   🌑   🌕   🌑   🌑\n",
      "  4  🌕   🌕   🌑   🌑   🌕   🌕   🌑   🌑\n",
      "  5  🌕   🌕   🌕   🌕   🌕   🌕   🌕   🌕\n",
      "  6  🌕   🌑   🌑   🌑   🌕   🌕   🌕   🌕\n",
      "  7  🌕   🌕   🌕   🌕   🌕   🌕   🌕   🟩\n",
      "Computer's turn...\n",
      "  /  a    b    c    d    e    f    g    h\n",
      "---  ---  ---  ---  ---  ---  ---  ---  ---\n",
      "  0  🌑   🌑   🌑   🌑   🌑   🌑   🌑   🌑\n",
      "  1  🌑   🌕   🌕   🌕   🌕   🌕   🌑   🌑\n",
      "  2  🌑   🌕   🌕   🌕   🌑   🌕   🌑   🌑\n",
      "  3  🌑   🌕   🌑   🌕   🌑   🌕   🌑   🌑\n",
      "  4  🌕   🌕   🌑   🌑   🌕   🌕   🌑   🌑\n",
      "  5  🌕   🌕   🌕   🌕   🌕   🌕   🌕   🌕\n",
      "  6  🌕   🌑   🌑   🌑   🌕   🌕   🌕   🌕\n",
      "  7  🌕   🌕   🌕   🌕   🌕   🌕   🌕   🌕\n",
      "Player O wins!\n"
     ]
    }
   ],
   "source": [
    "\n",
    "# Run the game\n",
    "play_game()"
   ],
   "metadata": {
    "collapsed": false,
    "ExecuteTime": {
     "start_time": "2023-09-23T17:53:20.431213Z",
     "end_time": "2023-09-23T17:53:20.793914Z"
    }
   }
  },
  {
   "cell_type": "code",
   "execution_count": 39,
   "outputs": [],
   "source": [],
   "metadata": {
    "collapsed": false,
    "ExecuteTime": {
     "start_time": "2023-09-23T17:52:18.036239Z",
     "end_time": "2023-09-23T17:52:18.114918Z"
    }
   }
  }
 ],
 "metadata": {
  "kernelspec": {
   "display_name": "Python 3",
   "language": "python",
   "name": "python3"
  },
  "language_info": {
   "codemirror_mode": {
    "name": "ipython",
    "version": 2
   },
   "file_extension": ".py",
   "mimetype": "text/x-python",
   "name": "python",
   "nbconvert_exporter": "python",
   "pygments_lexer": "ipython2",
   "version": "2.7.6"
  }
 },
 "nbformat": 4,
 "nbformat_minor": 0
}
